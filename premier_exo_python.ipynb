{
  "nbformat": 4,
  "nbformat_minor": 0,
  "metadata": {
    "colab": {
      "provenance": []
    },
    "kernelspec": {
      "name": "python3",
      "display_name": "Python 3"
    },
    "language_info": {
      "name": "python"
    }
  },
  "cells": [
    {
      "cell_type": "code",
      "execution_count": 1,
      "metadata": {
        "colab": {
          "base_uri": "https://localhost:8080/"
        },
        "id": "9E82LKpAFnPM",
        "outputId": "9e357315-cc1c-4f9a-ccfd-4992fe58ab60"
      },
      "outputs": [
        {
          "output_type": "stream",
          "name": "stdout",
          "text": [
            "nombre 1 : 4\n",
            "nombre 2 : -7\n",
            "c'est négatif\n"
          ]
        }
      ],
      "source": [
        "x = int(input (\"nombre 1 : \"))\n",
        "y = int(input (\"nombre 2 : \"))\n",
        "if ( (x <0 or y < 0) and (x>0 or y>0)) :\n",
        "    print (\"c'est négatif\")\n",
        "else : print (\"c'est positif\")"
      ]
    },
    {
      "cell_type": "code",
      "source": [
        "x = int(input (\"nombre 1 : \"))\n",
        "y=0\n",
        "for i in range(x+1): \n",
        "    y = y + i\n",
        "\n",
        "print(y)"
      ],
      "metadata": {
        "colab": {
          "base_uri": "https://localhost:8080/"
        },
        "id": "2qlZreqtGcpM",
        "outputId": "8c41e943-baed-4a3b-c85b-114103bbbe0c"
      },
      "execution_count": 2,
      "outputs": [
        {
          "output_type": "stream",
          "name": "stdout",
          "text": [
            "nombre 1 : 5\n",
            "15\n"
          ]
        }
      ]
    },
    {
      "cell_type": "code",
      "source": [
        "tab = [4,12,20,6,1,8,32,6]\n",
        "x=0\n",
        "for i in range(len(tab)): \n",
        "    x = x + tab[i]\n",
        "    print(x)\n",
        "\n",
        "print(x)"
      ],
      "metadata": {
        "id": "VTy7cdgvSozP"
      },
      "execution_count": null,
      "outputs": []
    }
  ]
}
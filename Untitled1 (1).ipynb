{
  "nbformat": 4,
  "nbformat_minor": 0,
  "metadata": {
    "colab": {
      "provenance": []
    },
    "kernelspec": {
      "name": "python3",
      "display_name": "Python 3"
    },
    "language_info": {
      "name": "python"
    }
  },
  "cells": [
    {
      "cell_type": "code",
      "execution_count": null,
      "metadata": {
        "colab": {
          "base_uri": "https://localhost:8080/"
        },
        "id": "9E82LKpAFnPM",
        "outputId": "9e357315-cc1c-4f9a-ccfd-4992fe58ab60"
      },
      "outputs": [
        {
          "output_type": "stream",
          "name": "stdout",
          "text": [
            "nombre 1 : 4\n",
            "nombre 2 : -7\n",
            "c'est négatif\n"
          ]
        }
      ],
      "source": [
        "x = int(input (\"nombre 1 : \"))\n",
        "y = int(input (\"nombre 2 : \"))\n",
        "if ( (x <0 or y < 0) and (x>0 or y>0)) :\n",
        "    print (\"c'est négatif\")\n",
        "else : print (\"c'est positif\")"
      ]
    },
    {
      "cell_type": "code",
      "source": [
        "x = int(input (\"nombre 1 : \"))\n",
        "y=0\n",
        "for i in range(x+1): \n",
        "    y = y + i\n",
        "\n",
        "print(y)"
      ],
      "metadata": {
        "colab": {
          "base_uri": "https://localhost:8080/"
        },
        "id": "2qlZreqtGcpM",
        "outputId": "8c41e943-baed-4a3b-c85b-114103bbbe0c"
      },
      "execution_count": null,
      "outputs": [
        {
          "output_type": "stream",
          "name": "stdout",
          "text": [
            "nombre 1 : 5\n",
            "15\n"
          ]
        }
      ]
    },
    {
      "cell_type": "code",
      "source": [
        "tab = [4,12,20,6,1,8,32,6]\n",
        "x=0\n",
        "for i in range(len(tab)): \n",
        "    x = x + tab[i]\n",
        "    print(x)\n",
        "\n",
        "print(x)"
      ],
      "metadata": {
        "colab": {
          "base_uri": "https://localhost:8080/"
        },
        "id": "VTy7cdgvSozP",
        "outputId": "3a0ed304-bec8-4cf6-da3a-d979b66932dc"
      },
      "execution_count": null,
      "outputs": [
        {
          "output_type": "stream",
          "name": "stdout",
          "text": [
            "4\n",
            "16\n",
            "36\n",
            "42\n",
            "43\n",
            "51\n",
            "83\n",
            "89\n",
            "89\n"
          ]
        }
      ]
    },
    {
      "cell_type": "code",
      "source": [
        "tab1 = [1,2,3,4,5]\n",
        "tab2 = [1,2,3,4,5]\n",
        "x=0\n",
        "for i in range(len(tab1)): \n",
        "    for y in range(len(tab2)): \n",
        "        x = x + (tab1[i] * tab2[y])\n",
        "\n",
        "print(x)"
      ],
      "metadata": {
        "colab": {
          "base_uri": "https://localhost:8080/"
        },
        "id": "iZ6iJWmlv-Eu",
        "outputId": "2797a8e7-e2ec-404b-b681-a3feb31bb668"
      },
      "execution_count": null,
      "outputs": [
        {
          "output_type": "stream",
          "name": "stdout",
          "text": [
            "225\n"
          ]
        }
      ]
    },
    {
      "cell_type": "code",
      "source": [
        "tab1 = [1,2,3,4,5,4,7,2,24,5]\n",
        "indice = 0\n",
        "x=tab1[0]\n",
        "for i in range(len(tab1)):  \n",
        "    if (x<tab1[i]):\n",
        "        x = tab1[i]\n",
        "        indice = i \n",
        "\n",
        "print('nombre max : ',x, ' en position : ', i-1)"
      ],
      "metadata": {
        "colab": {
          "base_uri": "https://localhost:8080/"
        },
        "id": "0188AWxJyOL5",
        "outputId": "6098e249-9dfb-4c66-f99b-a46149c874bf"
      },
      "execution_count": null,
      "outputs": [
        {
          "output_type": "stream",
          "name": "stdout",
          "text": [
            "nombre max :  24  en position :  8\n"
          ]
        }
      ]
    },
    {
      "cell_type": "code",
      "source": [
        "tab1 = [10,10,10,15,15,5,7,9,15,10]\n",
        "indice = 0\n",
        "x=0\n",
        "moyenne=0\n",
        "for i in range(len(tab1)):  \n",
        "    moyenne = moyenne+tab1[i] \n",
        "moyenne = moyenne/len(tab1)\n",
        "for i in range(len(tab1)):\n",
        "        if (tab1[i]>moyenne):  \n",
        "            x = x+1 \n",
        "print(x)\n",
        "print(moyenne)"
      ],
      "metadata": {
        "id": "Mx6ZCLb_EZIJ"
      },
      "execution_count": null,
      "outputs": []
    },
    {
      "cell_type": "code",
      "source": [
        "v1 = [[1, 2], [3, 4]]\n",
        "v2 = [[1, 2], [3, 4]]\n",
        "taille = 2\n",
        "cpt = 0\n",
        "reponse= 0\n",
        "Matrix = [[0 for t in range(taille)] for u in range(taille)] \n",
        "\n",
        "for z in range(taille): \n",
        "    for y in range(taille):\n",
        "        for i in range(taille):    \n",
        "            reponse = reponse + v1[z][i]*v2[i][y]\n",
        "        Matrix[z][y] = reponse\n",
        "        reponse=0\n",
        "\n",
        "print(Matrix)"
      ],
      "metadata": {
        "id": "8uemyZBb07vu"
      },
      "execution_count": null,
      "outputs": []
    },
    {
      "cell_type": "code",
      "source": [
        "v1 = [1,4,7,9,6,4,2,3,4,7,8,6,5,4,2,5,7,4589,12,589,6,4,7,6,2,1,5,5,4]\n",
        "\n",
        "taille = len(v1)\n",
        "var = 0\n",
        "i= 0\n",
        "while (i < taille):\n",
        "    if (i+1<taille and v1[i]>v1[i+1]):\n",
        "        var = v1[i+1]\n",
        "        v1[i+1] = v1[i]\n",
        "        v1[i] = var\n",
        "        i=0\n",
        "    i = i +1\n",
        "    \n",
        "print(v1)"
      ],
      "metadata": {
        "id": "JOk9MiBV6-RS"
      },
      "execution_count": null,
      "outputs": []
    },
    {
      "cell_type": "code",
      "source": [
        "x = int(input (\"nombre 1 : \"))\n",
        "solution = 1\n",
        "i= 1\n",
        "while (i <= x):\n",
        "    solution = solution * i\n",
        "    i = i + 1\n",
        "print(solution)"
      ],
      "metadata": {
        "id": "pDSgSANj8BlI"
      },
      "execution_count": null,
      "outputs": []
    },
    {
      "cell_type": "code",
      "source": [
        "v1 = [[1, 2], [3, 4]]\n",
        "v2 = [[1, 2], [3, 4]]\n",
        "taille = 2\n",
        "cpt = 0\n",
        "reponse= 0\n",
        "Matrix = [[0 for t in range(taille)] for u in range(taille)] \n",
        "\n",
        "for z in range(taille): \n",
        "    for y in range(taille):\n",
        "        for i in range(taille):    \n",
        "            reponse = reponse + v1[z][i]*v2[i][y]\n",
        "        Matrix[z][y] = reponse\n",
        "        reponse=0\n",
        "\n",
        "print(Matrix)"
      ],
      "metadata": {
        "id": "G9smcvla-emx"
      },
      "execution_count": null,
      "outputs": []
    },
    {
      "cell_type": "code",
      "source": [
        "x=0\n",
        "solution = 0\n",
        "def my_function(i):\n",
        "    if (i <= 1):\n",
        "        return i\n",
        "    else :\n",
        "        solution = my_function(i-2) + my_function(i-1) \n",
        "        return solution\n",
        "        \n",
        "while (x<20):\n",
        "    print (my_function(x) )\n",
        "    x = x+1"
      ],
      "metadata": {
        "id": "1oP_NMHSDusq"
      },
      "execution_count": null,
      "outputs": []
    },
    {
      "cell_type": "code",
      "source": [
        "k=1\n",
        "somme = 0\n",
        "x = int(input (\"nombre 1 : \"))  \n",
        "while (1):\n",
        "    somme = somme + 1/k\n",
        "    if(x<somme):\n",
        "        print(k)\n",
        "        break\n",
        "    k = k+1\n",
        "    "
      ],
      "metadata": {
        "id": "QEQ5JRRjHmbr"
      },
      "execution_count": null,
      "outputs": []
    }
  ]
}